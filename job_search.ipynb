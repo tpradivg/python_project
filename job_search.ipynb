{
 "cells": [
  {
   "cell_type": "code",
   "execution_count": 30,
   "id": "286bbe6e-6b05-46f7-aa26-0c7f2d6c620d",
   "metadata": {},
   "outputs": [
    {
     "data": {
      "text/html": [
       "<div>\n",
       "<style scoped>\n",
       "    .dataframe tbody tr th:only-of-type {\n",
       "        vertical-align: middle;\n",
       "    }\n",
       "\n",
       "    .dataframe tbody tr th {\n",
       "        vertical-align: top;\n",
       "    }\n",
       "\n",
       "    .dataframe thead th {\n",
       "        text-align: right;\n",
       "    }\n",
       "</style>\n",
       "<table border=\"1\" class=\"dataframe\">\n",
       "  <thead>\n",
       "    <tr style=\"text-align: right;\">\n",
       "      <th></th>\n",
       "      <th>Company Name</th>\n",
       "      <th>Found at</th>\n",
       "      <th>Open Jobs</th>\n",
       "      <th>Application Status</th>\n",
       "      <th>JOB URL</th>\n",
       "      <th>Latest Update</th>\n",
       "    </tr>\n",
       "  </thead>\n",
       "  <tbody>\n",
       "    <tr>\n",
       "      <th>0</th>\n",
       "      <td>Tom</td>\n",
       "      <td>LinkdeIn</td>\n",
       "      <td>NLP</td>\n",
       "      <td>Not applied</td>\n",
       "      <td></td>\n",
       "      <td></td>\n",
       "    </tr>\n",
       "    <tr>\n",
       "      <th>1</th>\n",
       "      <td>Jack</td>\n",
       "      <td>Angel.co</td>\n",
       "      <td>Open Cv</td>\n",
       "      <td>Not applied</td>\n",
       "      <td></td>\n",
       "      <td></td>\n",
       "    </tr>\n",
       "    <tr>\n",
       "      <th>2</th>\n",
       "      <td>nick</td>\n",
       "      <td>LinkdeIn</td>\n",
       "      <td>ML</td>\n",
       "      <td>Applied</td>\n",
       "      <td></td>\n",
       "      <td></td>\n",
       "    </tr>\n",
       "    <tr>\n",
       "      <th>3</th>\n",
       "      <td>juli</td>\n",
       "      <td>Angel.co</td>\n",
       "      <td>ML</td>\n",
       "      <td>Not applied</td>\n",
       "      <td></td>\n",
       "      <td></td>\n",
       "    </tr>\n",
       "  </tbody>\n",
       "</table>\n",
       "</div>"
      ],
      "text/plain": [
       "  Company Name  Found at Open Jobs Application Status JOB URL Latest Update\n",
       "0          Tom  LinkdeIn       NLP        Not applied                      \n",
       "1         Jack  Angel.co   Open Cv        Not applied                      \n",
       "2         nick  LinkdeIn        ML            Applied                      \n",
       "3         juli  Angel.co        ML        Not applied                      "
      ]
     },
     "execution_count": 30,
     "metadata": {},
     "output_type": "execute_result"
    }
   ],
   "source": [
    "import pandas as pd\n",
    "import numpy as np\n",
    "\n",
    "data = {\n",
    "    'Company Name': ['Tom', 'Jack', 'nick', 'juli'],\n",
    "    'Source': ['LinkdeIn', 'Angel.co','LinkdeIn', 'Angel.co'],\n",
    "    'Open Jobs': ['NLP', 'Open Cv', 'ML', 'ML'],\n",
    "    'Application Status': ['Not applied','Not applied','Applied','Not applied'],\n",
    "    'JOB URL': ['','','',''],\n",
    "    'Latest Update' : ['','','','']\n",
    "    \n",
    "}\n",
    "  \n",
    "df = pd.DataFrame(data, index=None)\n",
    "df"
   ]
  },
  {
   "cell_type": "code",
   "execution_count": 29,
   "id": "b276c9a2-49da-458e-a6fc-4eab4d89eed6",
   "metadata": {},
   "outputs": [
    {
     "data": {
      "text/plain": [
       "2    nick\n",
       "3    juli\n",
       "Name: Company Name, dtype: object"
      ]
     },
     "execution_count": 29,
     "metadata": {},
     "output_type": "execute_result"
    }
   ],
   "source": [
    "df[\"Company Name\"][df[\"Open Jobs\"]==\"ML\"]"
   ]
  },
  {
   "cell_type": "code",
   "execution_count": 27,
   "id": "379b8de6-7f9e-431a-ac35-5193dcc600ef",
   "metadata": {},
   "outputs": [
    {
     "data": {
      "text/plain": [
       "'Jack'"
      ]
     },
     "execution_count": 27,
     "metadata": {},
     "output_type": "execute_result"
    }
   ],
   "source": [
    "data[\"Company Name\"][1]"
   ]
  },
  {
   "cell_type": "markdown",
   "id": "4e551f1b-768e-4900-924f-ddaa213e0b86",
   "metadata": {
    "tags": []
   },
   "source": [
    "# Job Application Tracker "
   ]
  },
  {
   "cell_type": "code",
   "execution_count": null,
   "id": "90aa0b7f-4a0a-49b7-8574-dab12934ff28",
   "metadata": {},
   "outputs": [],
   "source": []
  }
 ],
 "metadata": {
  "kernelspec": {
   "display_name": "Python 3.9.7 64-bit ('base': conda)",
   "language": "python",
   "name": "python397jvsc74a57bd08492e77ffc62afac16c7569e474ee5d9a65b0db67fcd903d316fa5b485adbc4c"
  },
  "language_info": {
   "codemirror_mode": {
    "name": "ipython",
    "version": 3
   },
   "file_extension": ".py",
   "mimetype": "text/x-python",
   "name": "python",
   "nbconvert_exporter": "python",
   "pygments_lexer": "ipython3",
   "version": "3.9.7"
  }
 },
 "nbformat": 4,
 "nbformat_minor": 5
}
