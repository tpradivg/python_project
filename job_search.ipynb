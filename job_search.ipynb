{
 "cells": [
  {
   "cell_type": "code",
   "execution_count": 30,
   "id": "286bbe6e-6b05-46f7-aa26-0c7f2d6c620d",
   "metadata": {},
   "outputs": [
    {
     "data": {
      "text/html": [
       "<div>\n",
       "<style scoped>\n",
       "    .dataframe tbody tr th:only-of-type {\n",
       "        vertical-align: middle;\n",
       "    }\n",
       "\n",
       "    .dataframe tbody tr th {\n",
       "        vertical-align: top;\n",
       "    }\n",
       "\n",
       "    .dataframe thead th {\n",
       "        text-align: right;\n",
       "    }\n",
       "</style>\n",
       "<table border=\"1\" class=\"dataframe\">\n",
       "  <thead>\n",
       "    <tr style=\"text-align: right;\">\n",
       "      <th></th>\n",
       "      <th>Company Name</th>\n",
       "      <th>Found at</th>\n",
       "      <th>Open Jobs</th>\n",
       "      <th>Application Status</th>\n",
       "      <th>JOB URL</th>\n",
       "      <th>Latest Update</th>\n",
       "    </tr>\n",
       "  </thead>\n",
       "  <tbody>\n",
       "    <tr>\n",
       "      <th>0</th>\n",
       "      <td>Tom</td>\n",
       "      <td>LinkdeIn</td>\n",
       "      <td>NLP</td>\n",
       "      <td>Not applied</td>\n",
       "      <td></td>\n",
       "      <td></td>\n",
       "    </tr>\n",
       "    <tr>\n",
       "      <th>1</th>\n",
       "      <td>Jack</td>\n",
       "      <td>Angel.co</td>\n",
       "      <td>Open Cv</td>\n",
       "      <td>Not applied</td>\n",
       "      <td></td>\n",
       "      <td></td>\n",
       "    </tr>\n",
       "    <tr>\n",
       "      <th>2</th>\n",
       "      <td>nick</td>\n",
       "      <td>LinkdeIn</td>\n",
       "      <td>ML</td>\n",
       "      <td>Applied</td>\n",
       "      <td></td>\n",
       "      <td></td>\n",
       "    </tr>\n",
       "    <tr>\n",
       "      <th>3</th>\n",
       "      <td>juli</td>\n",
       "      <td>Angel.co</td>\n",
       "      <td>ML</td>\n",
       "      <td>Not applied</td>\n",
       "      <td></td>\n",
       "      <td></td>\n",
       "    </tr>\n",
       "  </tbody>\n",
       "</table>\n",
       "</div>"
      ],
      "text/plain": [
       "  Company Name  Found at Open Jobs Application Status JOB URL Latest Update\n",
       "0          Tom  LinkdeIn       NLP        Not applied                      \n",
       "1         Jack  Angel.co   Open Cv        Not applied                      \n",
       "2         nick  LinkdeIn        ML            Applied                      \n",
       "3         juli  Angel.co        ML        Not applied                      "
      ]
     },
     "execution_count": 30,
     "metadata": {},
     "output_type": "execute_result"
    }
   ],
   "source": [
    "import pandas as pd\n",
    "import numpy as np\n",
    "\n",
    "data = {\n",
    "    'Company Name': ['Tom', 'Jack', 'nick', 'juli'],\n",
    "    'Source': ['LinkdeIn', 'Angel.co','LinkdeIn', 'Angel.co'],\n",
    "    'Open Jobs': ['NLP', 'Open Cv', 'ML', 'ML'],\n",
    "    'Application Status': ['Not applied','Not applied','Applied','Not applied'],\n",
    "    'JOB URL': ['','','',''],\n",
    "    'Latest Update' : ['','','','']\n",
    "    \n",
    "}\n",
    "  \n",
    "df = pd.DataFrame(data, index=None)\n",
    "df"
   ]
  },
  {
   "cell_type": "code",
   "execution_count": 29,
   "id": "b276c9a2-49da-458e-a6fc-4eab4d89eed6",
   "metadata": {},
   "outputs": [
    {
     "data": {
      "text/plain": [
       "2    nick\n",
       "3    juli\n",
       "Name: Company Name, dtype: object"
      ]
     },
     "execution_count": 29,
     "metadata": {},
     "output_type": "execute_result"
    }
   ],
   "source": [
    "df[\"Company Name\"][df[\"Open Jobs\"]==\"ML\"]"
   ]
  },
  {
   "cell_type": "code",
   "execution_count": 27,
   "id": "379b8de6-7f9e-431a-ac35-5193dcc600ef",
   "metadata": {},
   "outputs": [
    {
     "data": {
      "text/plain": [
       "'Jack'"
      ]
     },
     "execution_count": 27,
     "metadata": {},
     "output_type": "execute_result"
    }
   ],
   "source": [
    "data[\"Company Name\"][1]"
   ]
  },
  {
   "cell_type": "markdown",
   "id": "4e551f1b-768e-4900-924f-ddaa213e0b86",
   "metadata": {
    "tags": []
   },
   "source": [
    "# Job Application Tracker "
   ]
  },
  {
   "cell_type": "code",
   "execution_count": 78,
   "id": "90aa0b7f-4a0a-49b7-8574-dab12934ff28",
   "metadata": {},
   "outputs": [
    {
     "name": "stdout",
     "output_type": "stream",
     "text": [
      "\n",
      "##########################################################################\n",
      "##################### JOB TRACKER PYTHON APP #############################\n",
      "##########################################################################\n",
      "|                           1. Add                                       |\n",
      "|                           2. View                                      |\n",
      "##########################################################################\n",
      "\n"
     ]
    },
    {
     "name": "stdin",
     "output_type": "stream",
     "text": [
      "Select :  2\n"
     ]
    },
    {
     "name": "stdout",
     "output_type": "stream",
     "text": [
      "  Company Name Source Open Jobs Application Status     JOB URL Latest Update\n",
      "0     firstone   self       NLP            applied  desktop.co           NaN\n",
      "1     localtwo   self        CV         no applied  desktop.co            na\n",
      "\n",
      "##########################################################################\n",
      "##################### JOB TRACKER PYTHON APP #############################\n",
      "##########################################################################\n",
      "|                           1. Add                                       |\n",
      "|                           2. View                                      |\n",
      "##########################################################################\n",
      "\n"
     ]
    },
    {
     "name": "stdin",
     "output_type": "stream",
     "text": [
      "Select :  quit()\n"
     ]
    },
    {
     "name": "stdout",
     "output_type": "stream",
     "text": [
      "Exiting...!\n",
      "Have a Good Day!!!\n"
     ]
    }
   ],
   "source": [
    "import os\n",
    "import pandas as pd\n",
    "\n",
    "def empty_df():\n",
    "    '''\n",
    "    An Empty dictionary\n",
    "    '''\n",
    "    global data\n",
    "    data = {\n",
    "    'Company Name': [],\n",
    "    'Source': [],\n",
    "    'Open Jobs': [],\n",
    "    'Application Status': [],\n",
    "    'JOB URL': [],\n",
    "    'Latest Update' : []\n",
    "    }\n",
    "    \n",
    "def add():\n",
    "    '''\n",
    "    Add new data to Data Frame\n",
    "    '''\n",
    "    empty_df()\n",
    "    data[\"Company Name\"].append(input(\"Enter Company Name: \"))\n",
    "    data[\"Source\"].append(input(\"Enter Source: \"))\n",
    "    data[\"Open Jobs\"].append(input(\"Enter Open Jobs: \"))\n",
    "    data[\"Application Status\"].append(input(\"Enter Application Status: \"))\n",
    "    data[\"JOB URL\"].append(input(\"Enter JOB URL: \"))\n",
    "    data[\"Latest Update\"].append(input(\"Enter Latest Update: \"))\n",
    "    \n",
    "    df_newData = pd.DataFrame(data, index=None)\n",
    "    updated_df = df.append(df_newData)\n",
    "    updated_df.to_csv(\"testdata.csv\", index=False)\n",
    "    \n",
    "    dfx = pd.read_csv(\"testdata.csv\")\n",
    "    print(dfx)\n",
    "    \n",
    "def view():\n",
    "    df = pd.read_csv(\"testdata.csv\")\n",
    "    print(df)\n",
    "    # Need to add a stop here so the result can be viewed.\n",
    "\n",
    "path = os.getcwd()\n",
    "file = '/testdata.csv'\n",
    "path_to_file = path + file\n",
    "\n",
    "if os.path.exists(path_to_file) is False:\n",
    "    empty_df()\n",
    "    df = pd.DataFrame(data, index=None)\n",
    "    df.to_csv(\"testdata.csv\", index=False)\n",
    "    \n",
    "df = pd.read_csv(\"testdata.csv\")#.drop(['Unnamed: 0', 'Unnamed: 0.1', 'Unnamed: 0.1.1'], axis=1)\n",
    "\n",
    "\n",
    "flag = True\n",
    "while flag:\n",
    "    print('''\n",
    "##########################################################################\n",
    "##################### JOB TRACKER PYTHON APP #############################\n",
    "##########################################################################\n",
    "|                           1. Add                                       |\n",
    "|                           2. View                                      |\n",
    "##########################################################################\n",
    "''')\n",
    "    get_input = input(\"Select : \")\n",
    "    if get_input == '1':\n",
    "        add()\n",
    "    elif get_input == '2':\n",
    "        view()\n",
    "    else:\n",
    "        print(\"Exiting...!\")\n",
    "        print(\"Have a Good Day!!!\")\n",
    "        flag = False\n",
    "        \n",
    "    "
   ]
  },
  {
   "cell_type": "code",
   "execution_count": null,
   "id": "877d4c8c-4585-41af-b117-98ddcadac281",
   "metadata": {},
   "outputs": [],
   "source": []
  }
 ],
 "metadata": {
  "kernelspec": {
   "display_name": "Python 3.9.7 64-bit ('base': conda)",
   "language": "python",
   "name": "python397jvsc74a57bd08492e77ffc62afac16c7569e474ee5d9a65b0db67fcd903d316fa5b485adbc4c"
  },
  "language_info": {
   "codemirror_mode": {
    "name": "ipython",
    "version": 3
   },
   "file_extension": ".py",
   "mimetype": "text/x-python",
   "name": "python",
   "nbconvert_exporter": "python",
   "pygments_lexer": "ipython3",
   "version": "3.9.7"
  }
 },
 "nbformat": 4,
 "nbformat_minor": 5
}
